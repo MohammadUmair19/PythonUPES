{
  "nbformat": 4,
  "nbformat_minor": 0,
  "metadata": {
    "colab": {
      "provenance": [],
      "authorship_tag": "ABX9TyOy5OJLIfrHKFUdogWp+ch2",
      "include_colab_link": true
    },
    "kernelspec": {
      "name": "python3",
      "display_name": "Python 3"
    },
    "language_info": {
      "name": "python"
    }
  },
  "cells": [
    {
      "cell_type": "markdown",
      "metadata": {
        "id": "view-in-github",
        "colab_type": "text"
      },
      "source": [
        "<a href=\"https://colab.research.google.com/github/MohammadUmair19/PythonUPES/blob/main/LibraryManagementp3.ipynb\" target=\"_parent\"><img src=\"https://colab.research.google.com/assets/colab-badge.svg\" alt=\"Open In Colab\"/></a>"
      ]
    },
    {
      "cell_type": "code",
      "execution_count": null,
      "metadata": {
        "id": "cjbc7G-HJ2zQ"
      },
      "outputs": [],
      "source": [
        "def show_avail_books(books):\n",
        "    print('Our Library Can Offer You The Following Books:')\n",
        "    print('================================================')\n",
        "    for book, borrower in books.items():\n",
        "        if borrower == 'Free':\n",
        "            print(book)\n",
        "\n",
        "def lend_book(books, requested_book, name):\n",
        "    if books.get(requested_book) == 'Free':\n",
        "        print(\n",
        "            f'{requested_book} has been marked'\n",
        "            f' as \\'Borrowed\\' by: {name}')\n",
        "        books[requested_book] = name\n",
        "        return True\n",
        "    else:\n",
        "        print(\n",
        "            f'Sorry, the {requested_book} is currently'\n",
        "            f' on loan to: {books.get(requested_book)}')\n",
        "        return False\n",
        "\n",
        "def return_book(books, returned_book):\n",
        "    if books.get(returned_book) == 'Free':\n",
        "        print(f'The book {returned_book} is not currently borrowed.')\n",
        "    elif books.get(returned_book):\n",
        "        books[returned_book] = 'Free'\n",
        "        print(f'Thanks for returning {returned_book}')\n",
        "    else:\n",
        "        print('Book not found in the library.')\n",
        "\n",
        "def view_borrowed(books, borrower_name):\n",
        "    borrowed_books = [book for book, borrower in books.items() if borrower == borrower_name]\n",
        "    if not borrowed_books:\n",
        "        print('You haven\\'t borrowed any books')\n",
        "    else:\n",
        "        for book in borrowed_books:\n",
        "            print(book)\n",
        "\n",
        "def create_lib():\n",
        "    books = {\n",
        "        'Formula One': 'Free',\n",
        "        'Harry Potter': 'Free',\n",
        "        'Game Of Thrones': 'Free',\n",
        "        'Big Bang': 'Free',\n",
        "        'Earth': 'Free'\n",
        "\n",
        "    }\n",
        "\n",
        "    borrower_name = input(\"Enter your name: \")\n",
        "\n",
        "    while True:\n",
        "        print('''\n",
        "            ==========LIBRARY MENU===========\n",
        "            1. Display Available Books\n",
        "            2. Borrow a Book\n",
        "            3. Return a Book\n",
        "            4. View Your Books\n",
        "            5. Exit'''\n",
        "        )\n",
        "\n",
        "        choice = int(input('Enter Choice: '))\n",
        "        if choice == 1:\n",
        "            print()\n",
        "            show_avail_books(books)\n",
        "        elif choice == 2:\n",
        "            print()\n",
        "            requested_book = input('Enter the name of the book you\\'d like to borrow >> ')\n",
        "            lend_book(books, requested_book, borrower_name)\n",
        "        elif choice == 3:\n",
        "            print()\n",
        "            returned_book = input('Enter the name of the book you\\'d like to return >> ')\n",
        "            return_book(books, returned_book)\n",
        "        elif choice == 4:\n",
        "            print()\n",
        "            view_borrowed(books, borrower_name)\n",
        "        elif choice == 5:\n",
        "            print('Goodbye')\n",
        "            break\n",
        "        else:\n",
        "            print('Invalid choice. Please enter a number between 1 and 5.')\n",
        "\n",
        "\n",
        "if _name_ == '_main_':\n",
        "    create_lib()"
      ]
    }
  ]
}